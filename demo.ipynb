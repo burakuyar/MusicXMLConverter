{
 "cells": [
  {
   "cell_type": "code",
   "execution_count": 1,
   "metadata": {
    "collapsed": false
   },
   "outputs": [],
   "source": [
    "import os\n",
    "from musicxmlconverter.symbtr2musicxml import SymbTrScore\n"
   ]
  },
  {
   "cell_type": "code",
   "execution_count": 2,
   "metadata": {
    "collapsed": false
   },
   "outputs": [],
   "source": [
    "txtpath = os.path.join('sampledata','kurdi--turku--sofyan--dalda_cikmis--.txt')\n",
    "mu2path = os.path.join('sampledata','kurdi--turku--sofyan--dalda_cikmis--.mu2')\n",
    "\n",
    "symbtrname = 'kurdi--turku--sofyan--dalda_cikmis--'\n",
    "mbid_url = 'http://musicbrainz.org/work/50bc4b54-5e14-4a98-bd44-ee5493479c7d'\n",
    "\n",
    "outpath = os.path.join('sampledata','kurdi--turku--sofyan--dalda_cikmis--.xml')"
   ]
  },
  {
   "cell_type": "code",
   "execution_count": 3,
   "metadata": {
    "collapsed": false
   },
   "outputs": [],
   "source": [
    "piece = SymbTrScore(txtpath, mu2path, symbtrname=symbtrname, mbid_url=mbid_url)\n",
    "xmlstr = piece.convertsymbtr2xml()  # outputs the xml score as string\n",
    "piece.writexml(outpath)  # you can also save the score to a file after calling the conversion method above\n"
   ]
  },
  {
   "cell_type": "code",
   "execution_count": null,
   "metadata": {
    "collapsed": false
   },
   "outputs": [],
   "source": []
  }
 ],
 "metadata": {
  "kernelspec": {
   "display_name": "Python 2",
   "language": "python",
   "name": "python2"
  },
  "language_info": {
   "codemirror_mode": {
    "name": "ipython",
    "version": 2
   },
   "file_extension": ".py",
   "mimetype": "text/x-python",
   "name": "python",
   "nbconvert_exporter": "python",
   "pygments_lexer": "ipython2",
   "version": "2.7.10"
  }
 },
 "nbformat": 4,
 "nbformat_minor": 0
}
