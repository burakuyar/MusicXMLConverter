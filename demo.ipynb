{
 "cells": [
  {
   "cell_type": "code",
   "execution_count": 1,
   "metadata": {
    "collapsed": false
   },
   "outputs": [],
   "source": [
    "import os\n",
    "from musicxmlconverter.symbtr2musicxml import symbtrscore\n"
   ]
  },
  {
   "cell_type": "code",
   "execution_count": 2,
   "metadata": {
    "collapsed": false
   },
   "outputs": [],
   "source": [
    "txtpath = os.path.join('sampledata','kurdilihicazkar--sarki--agiraksak--ehl-i_askin--tatyos_efendi.txt')\n",
    "mu2path = os.path.join('sampledata','kurdilihicazkar--sarki--agiraksak--ehl-i_askin--tatyos_efendi.mu2')\n",
    "\n",
    "symbtrname = 'kurdilihicazkar--sarki--agiraksak--ehl-i_askin--tatyos_efendi'\n",
    "mbid = {u'mbid': u'b43fd61e-522c-4af4-821d-db85722bf48c', u'type': u'work'}\n",
    "\n",
    "outpath = os.path.join('sampledata','kurdilihicazkar--sarki--agiraksak--ehl-i_askin--tatyos_efendi.xml')\n"
   ]
  },
  {
   "cell_type": "code",
   "execution_count": 3,
   "metadata": {
    "collapsed": false
   },
   "outputs": [],
   "source": [
    "piece = symbtrscore(txtpath, mu2path, symbtrname=symbtrname, mbid=mbid)\n",
    "xmlstr = piece.convertsymbtr2xml(verbose=False)  # outputs the xml score as string\n",
    "piece.writexml(outpath)  # you can also save the score to a file after calling the conversion method above\n"
   ]
  },
  {
   "cell_type": "code",
   "execution_count": null,
   "metadata": {
    "collapsed": false
   },
   "outputs": [],
   "source": []
  }
 ],
 "metadata": {
  "kernelspec": {
   "display_name": "Python 2",
   "language": "python",
   "name": "python2"
  },
  "language_info": {
   "codemirror_mode": {
    "name": "ipython",
    "version": 2
   },
   "file_extension": ".py",
   "mimetype": "text/x-python",
   "name": "python",
   "nbconvert_exporter": "python",
   "pygments_lexer": "ipython2",
   "version": "2.7.6"
  }
 },
 "nbformat": 4,
 "nbformat_minor": 0
}
