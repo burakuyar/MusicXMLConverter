{
 "cells": [
  {
   "cell_type": "code",
   "execution_count": 2,
   "metadata": {
    "collapsed": false
   },
   "outputs": [
    {
     "name": "stdout",
     "output_type": "stream",
     "text": [
      "No arguments.\n"
     ]
    }
   ],
   "source": [
    "import os\n",
    "from musicxmlconverter.symbtr2musicxml import symbtrscore"
   ]
  },
  {
   "cell_type": "code",
   "execution_count": 3,
   "metadata": {
    "collapsed": false
   },
   "outputs": [],
   "source": [
    "fpath = os.path.join('sampledata','kurdilihicazkar--sarki--agiraksak--ehl-i_askin--tatyos_efendi.txt')"
   ]
  },
  {
   "cell_type": "code",
   "execution_count": 4,
   "metadata": {
    "collapsed": false
   },
   "outputs": [
    {
     "name": "stdout",
     "output_type": "stream",
     "text": [
      "sampledata\\kurdilihicazkar--sarki--agiraksak--ehl-i_askin--tatyos_efendi.txt\n",
      "SymbTr name is not found in the latest.\n",
      "(864.0, 0, 9)\n",
      "sampledata\\kurdilihicazkar\n",
      "('Kod', '51', 'but no time information.', '1')\n",
      "('Kod', '51', 'but no time information.', '1')\n",
      "('Tuplet added.', 1, 1, '83')\n",
      "('Tuplet added.', 2, 1, '84')\n",
      "('Tuplet added.', 3, 1, '85')\n",
      "[24, 24, 24]\n",
      "('Tuplet added.', 1, 1, '87')\n",
      "('Tuplet added.', 2, 1, '88')\n",
      "('Tuplet added.', 3, 1, '89')\n",
      "[24, 24, 24]\n",
      "('Tuplet added.', 1, 1, '187')\n",
      "('Tuplet added.', 2, 1, '188')\n",
      "('Tuplet added.', 3, 1, '189')\n",
      "[24, 24, 24]\n",
      "('Tuplet added.', 1, 1, '191')\n",
      "('Tuplet added.', 2, 1, '192')\n",
      "('Tuplet added.', 3, 1, '193')\n",
      "[24, 24, 24]\n",
      "1\n",
      "{289: u'VOCAL_SECTION', 2: u'ARANA\\u011eME', 483: u'SAZ', 388: u'VOCAL_SECTION', 489: u'VOCAL_SECTION', 106: u'ARANA\\u011eME', 207: u'VOCAL_SECTION', 574: u'SAZ', 580: u'VOCAL_SECTION', 283: u'SAZ', 382: u'SAZ'}\n"
     ]
    }
   ],
   "source": [
    "print(fpath)\n",
    "\n",
    "piece = symbtrscore(fpath)\n",
    "#print(piece.printnotes())\n",
    "piece.convertsymbtr2xml()\n",
    "print(piece.phraseboundaryinfo)\n",
    "#print(piece.symbt2xmldict)\n",
    "\n",
    "#print(len(piece.notes))\n",
    "print(piece.sectionsextracted)"
   ]
  },
  {
   "cell_type": "code",
   "execution_count": null,
   "metadata": {
    "collapsed": true
   },
   "outputs": [],
   "source": []
  },
  {
   "cell_type": "code",
   "execution_count": null,
   "metadata": {
    "collapsed": true
   },
   "outputs": [],
   "source": []
  }
 ],
 "metadata": {
  "kernelspec": {
   "display_name": "Python 2",
   "language": "python",
   "name": "python2"
  },
  "language_info": {
   "codemirror_mode": {
    "name": "ipython",
    "version": 2
   },
   "file_extension": ".py",
   "mimetype": "text/x-python",
   "name": "python",
   "nbconvert_exporter": "python",
   "pygments_lexer": "ipython2",
   "version": "2.7.11"
  }
 },
 "nbformat": 4,
 "nbformat_minor": 0
}
