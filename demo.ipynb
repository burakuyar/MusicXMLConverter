{
 "cells": [
  {
   "cell_type": "code",
   "execution_count": 1,
   "metadata": {
    "collapsed": false
   },
   "outputs": [],
   "source": [
    "import os\n",
    "import json\n",
    "import urllib\n",
    "\n",
    "from musicxmlconverter.symbtr2musicxml import symbtrscore"
   ]
  },
  {
   "cell_type": "code",
   "execution_count": 2,
   "metadata": {
    "collapsed": false
   },
   "outputs": [],
   "source": [
    "txtpath = os.path.join('sampledata','kurdilihicazkar--sarki--agiraksak--ehl-i_askin--tatyos_efendi.txt')\n",
    "mu2path = os.path.join('sampledata','kurdilihicazkar--sarki--agiraksak--ehl-i_askin--tatyos_efendi.mu2')\n",
    "\n",
    "symbtrname = 'kurdilihicazkar--sarki--agiraksak--ehl-i_askin--tatyos_efendi'\n",
    "mbid = {u'mbid': u'b43fd61e-522c-4af4-821d-db85722bf48c', u'type': u'work'}\n",
    "\n",
    "outpath = os.path.join('sampledata','kurdilihicazkar--sarki--agiraksak--ehl-i_askin--tatyos_efendi.xml')\n"
   ]
  },
  {
   "cell_type": "code",
   "execution_count": 5,
   "metadata": {
    "collapsed": false
   },
   "outputs": [
    {
     "name": "stdout",
     "output_type": "stream",
     "text": [
      "('After long usul check:', 864.0, 0, 9)\n",
      "kurdilihicazkar\n",
      "('Kod', '51', 'but no time information.', '1', '51')\n",
      "('DOT ADDED', '3')\n",
      "('DOT ADDED', '7')\n",
      "('DOT ADDED', '33')\n",
      "('Tuplet added.', 1, 1, '83')\n",
      "('Tuplet added.', 2, 1, '84')\n",
      "('Tuplet added.', 3, 1, '85')\n",
      "('Tuplet sequence:', [24, 24, 24])\n",
      "('Tuplet added.', 1, 1, '87')\n",
      "('Tuplet added.', 2, 1, '88')\n",
      "('Tuplet added.', 3, 1, '89')\n",
      "('Tuplet sequence:', [24, 24, 24])\n",
      "('DOT ADDED', '92')\n",
      "('DOT ADDED', '107')\n",
      "('DOT ADDED', '111')\n",
      "('DOT ADDED', '137')\n",
      "('Tuplet added.', 1, 1, '187')\n",
      "('Tuplet added.', 2, 1, '188')\n",
      "('Tuplet added.', 3, 1, '189')\n",
      "('Tuplet sequence:', [24, 24, 24])\n",
      "('Tuplet added.', 1, 1, '191')\n",
      "('Tuplet added.', 2, 1, '192')\n",
      "('Tuplet added.', 3, 1, '193')\n",
      "('Tuplet sequence:', [24, 24, 24])\n",
      "('DOT ADDED', '196')\n",
      "('DOT ADDED', '202')\n",
      "('DOT ADDED', '215')\n",
      "('DOT ADDED', '217')\n",
      "('DOT ADDED', '233')\n",
      "('DOT ADDED', '239')\n",
      "('DOT ADDED', '256')\n",
      "('DOT ADDED', '259')\n",
      "('DOT ADDED', '281')\n",
      "('DOT ADDED', '289')\n",
      "('DOT ADDED', '298')\n",
      "('DOT ADDED', '302')\n",
      "('DOT ADDED', '319')\n",
      "('DOT ADDED', '325')\n",
      "('DOT ADDED', '328')\n",
      "('DOT ADDED', '381')\n",
      "('DOT ADDED', '389')\n",
      "('DOT ADDED', '398')\n",
      "('DOT ADDED', '402')\n",
      "('DOT ADDED', '419')\n",
      "('DOT ADDED', '425')\n",
      "('DOT ADDED', '428')\n",
      "('DOT ADDED', '480')\n",
      "('DOT ADDED', '489')\n",
      "('DOT ADDED', '499')\n",
      "('DOT ADDED', '521')\n",
      "('DOT ADDED', '523')\n",
      "('DOT ADDED', '525')\n",
      "('DOT ADDED', '527')\n",
      "('DOT ADDED', '533')\n",
      "('DOT ADDED', '548')\n",
      "('DOT ADDED', '550')\n",
      "('DOT ADDED', '572')\n",
      "('DOT ADDED', '580')\n",
      "('DOT ADDED', '589')\n",
      "('DOT ADDED', '593')\n",
      "('DOT ADDED', '610')\n",
      "('DOT ADDED', '616')\n",
      "('DOT ADDED', '619')\n",
      "('DOT ADDED', '672')\n"
     ]
    }
   ],
   "source": [
    "piece = symbtrscore(txtpath, mu2path, symbtrname=symbtrname, mbid=mbid, outpath=outpath, verbose=False)\n",
    "piece.convertsymbtr2xml()\n"
   ]
  },
  {
   "cell_type": "code",
   "execution_count": null,
   "metadata": {
    "collapsed": false
   },
   "outputs": [],
   "source": []
  },
  {
   "cell_type": "code",
   "execution_count": 4,
   "metadata": {
    "collapsed": true
   },
   "outputs": [],
   "source": [
    "# # NOTE carry this to the Symbtr extra wrapper once the code is stable\n",
    "\n",
    "# # mbid; get from the latest commit of the symbTr_mbid.json. \n",
    "# # If the file name is not present in the latest commit, you have to supply th mbid manually.\n",
    "# jsonurl = \"https://raw.githubusercontent.com/MTG/SymbTr/master/symbTr_mbid.json\"\n",
    "# response = urllib.urlopen(jsonurl)\n",
    "# symbtr_mbid = json.loads(response.read())\n",
    "\n",
    "# mbids = []  # extremely rare but there can be more than one mbid \n",
    "# for e in symbtr_mbid:\n",
    "#     if e['name'] == symbtrname:\n",
    "#         mbids.append(e['uuid'])\n"
   ]
  }
 ],
 "metadata": {
  "kernelspec": {
   "display_name": "Python 2",
   "language": "python",
   "name": "python2"
  },
  "language_info": {
   "codemirror_mode": {
    "name": "ipython",
    "version": 2
   },
   "file_extension": ".py",
   "mimetype": "text/x-python",
   "name": "python",
   "nbconvert_exporter": "python",
   "pygments_lexer": "ipython2",
   "version": "2.7.11"
  }
 },
 "nbformat": 4,
 "nbformat_minor": 0
}
