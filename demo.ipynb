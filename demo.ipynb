{
 "cells": [
  {
   "cell_type": "code",
   "execution_count": 1,
   "metadata": {
    "collapsed": false
   },
   "outputs": [
    {
     "name": "stdout",
     "output_type": "stream",
     "text": [
      "No arguments.\n"
     ]
    }
   ],
   "source": [
    "import os\n",
    "from musicxmlconverter.symbtr2musicxml import symbtrscore"
   ]
  },
  {
   "cell_type": "code",
   "execution_count": 2,
   "metadata": {
    "collapsed": false
   },
   "outputs": [],
   "source": [
    "txtpath = os.path.join('sampledata','kurdilihicazkar--sarki--agiraksak--ehl-i_askin--tatyos_efendi.txt')\n",
    "mu2path = os.path.join('sampledata','kurdilihicazkar--sarki--agiraksak--ehl-i_askin--tatyos_efendi.mu2')"
   ]
  },
  {
   "cell_type": "code",
   "execution_count": 3,
   "metadata": {
    "collapsed": false
   },
   "outputs": [
    {
     "name": "stdout",
     "output_type": "stream",
     "text": [
      "SymbTr name is not found in the latest.\n",
      "(864.0, 0, 9)\n",
      "kurdilihicazkar\n",
      "('Kod', '51', 'but no time information.', '1')\n",
      "('Kod', '51', 'but no time information.', '1')\n",
      "('Tuplet added.', 1, 1, '83')\n",
      "('Tuplet added.', 2, 1, '84')\n",
      "('Tuplet added.', 3, 1, '85')\n",
      "[24, 24, 24]\n",
      "('Tuplet added.', 1, 1, '87')\n",
      "('Tuplet added.', 2, 1, '88')\n",
      "('Tuplet added.', 3, 1, '89')\n",
      "[24, 24, 24]\n",
      "('Tuplet added.', 1, 1, '187')\n",
      "('Tuplet added.', 2, 1, '188')\n",
      "('Tuplet added.', 3, 1, '189')\n",
      "[24, 24, 24]\n",
      "('Tuplet added.', 1, 1, '191')\n",
      "('Tuplet added.', 2, 1, '192')\n",
      "('Tuplet added.', 3, 1, '193')\n",
      "[24, 24, 24]\n"
     ]
    }
   ],
   "source": [
    "piece = symbtrscore(txtpath, mu2path)\n",
    "piece.convertsymbtr2xml()\n"
   ]
  },
  {
   "cell_type": "code",
   "execution_count": 4,
   "metadata": {
    "collapsed": false
   },
   "outputs": [
    {
     "data": {
      "text/plain": [
       "'c.txt'"
      ]
     },
     "execution_count": 4,
     "metadata": {},
     "output_type": "execute_result"
    }
   ],
   "source": [
    "import os\n",
    "os.path.basename('a/b/c.txt')"
   ]
  },
  {
   "cell_type": "code",
   "execution_count": null,
   "metadata": {
    "collapsed": true
   },
   "outputs": [],
   "source": []
  }
 ],
 "metadata": {
  "kernelspec": {
   "display_name": "Python 2",
   "language": "python",
   "name": "python2"
  },
  "language_info": {
   "codemirror_mode": {
    "name": "ipython",
    "version": 2
   },
   "file_extension": ".py",
   "mimetype": "text/x-python",
   "name": "python",
   "nbconvert_exporter": "python",
   "pygments_lexer": "ipython2",
   "version": "2.7.10"
  }
 },
 "nbformat": 4,
 "nbformat_minor": 0
}
